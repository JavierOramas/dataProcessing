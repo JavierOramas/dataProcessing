{
 "cells": [
  {
   "cell_type": "code",
   "execution_count": 245,
   "metadata": {},
   "outputs": [],
   "source": [
    "import pandas as pd"
   ]
  },
  {
   "cell_type": "code",
   "execution_count": 246,
   "metadata": {
    "scrolled": false
   },
   "outputs": [],
   "source": [
    "providers_data = pd.read_csv('providers.csv', sep=',')"
   ]
  },
  {
   "cell_type": "code",
   "execution_count": 247,
   "metadata": {},
   "outputs": [],
   "source": [
    "supervisors = providers_data[providers_data['Type'] == 'Supervisor']\n",
    "risen_supervisors = providers_data[providers_data['Type'] == 'Risen Supervisor']\n",
    "trainees = providers_data[providers_data['Status'] == 'Trainee']\n",
    "RBTs = providers_data[providers_data['Status'] == 'RBT']"
   ]
  },
  {
   "cell_type": "code",
   "execution_count": 248,
   "metadata": {},
   "outputs": [],
   "source": [
    "df = pd.read_csv('data.csv')"
   ]
  },
  {
   "cell_type": "code",
   "execution_count": 249,
   "metadata": {},
   "outputs": [],
   "source": [
    "# TODO tambien deberías permitirme descartar los Client/Provider que no me interesen tener en cuenta para el análisis\n",
    "labels = ['ProviderId', 'DateOfService', 'TimeWorkedFrom', 'TimeWorkedTo', 'TimeWorkedInHours', 'ClientFirstName', 'ProviderFirstName', 'ProcedureCode' ]"
   ]
  },
  {
   "cell_type": "code",
   "execution_count": 250,
   "metadata": {},
   "outputs": [],
   "source": [
    "data = df.drop(df.columns.difference(labels), 1)"
   ]
  },
  {
   "cell_type": "code",
   "execution_count": 251,
   "metadata": {},
   "outputs": [
    {
     "output_type": "execute_result",
     "data": {
      "text/plain": [
       "['97153',\n",
       " '97155',\n",
       " '97153:non-billable',\n",
       " '97155:non-billable',\n",
       " 'documentation',\n",
       " 'remoteindividualsupervision']"
      ]
     },
     "metadata": {},
     "execution_count": 251
    }
   ],
   "source": [
    "# TODO por si acaso, deberias dejarme escoger que codigos vamos a utilizar para hacer los reportes de los q aparezcan en el csv\n",
    "valid = ['97153', '97155', '97153: Non-Billable', '97155: Non-Billable', 'Documentation', 'Remote Individual Supervision']\n",
    "valid = [i.replace(' ','').lower() for i in valid]\n",
    "valid"
   ]
  },
  {
   "cell_type": "code",
   "execution_count": 252,
   "metadata": {},
   "outputs": [
    {
     "output_type": "execute_result",
     "data": {
      "text/plain": [
       "      DateOfService   TimeWorkedFrom     TimeWorkedTo  TimeWorkedInHours  \\\n",
       "0     6/1/2021 0:00    6/1/2021 7:55   6/1/2021 13:32               5.62   \n",
       "2     6/1/2021 0:00   6/1/2021 13:00   6/1/2021 15:00               2.00   \n",
       "3     6/1/2021 0:00   6/1/2021 21:00   6/1/2021 22:00               1.00   \n",
       "5     6/1/2021 0:00   6/1/2021 10:00   6/1/2021 12:00               2.00   \n",
       "6     6/1/2021 0:00   6/1/2021 14:30   6/1/2021 16:30               2.00   \n",
       "..              ...              ...              ...                ...   \n",
       "558  6/29/2021 0:00  6/29/2021 14:00  6/29/2021 15:00               1.00   \n",
       "560  6/29/2021 0:00  6/29/2021 16:00  6/29/2021 17:00               1.00   \n",
       "562  6/29/2021 0:00  6/29/2021 18:00  6/29/2021 19:00               1.00   \n",
       "563  6/30/2021 0:00  6/30/2021 16:00  6/30/2021 18:00               2.00   \n",
       "566  6/30/2021 0:00  6/30/2021 16:00  6/30/2021 20:00               4.00   \n",
       "\n",
       "    ClientFirstName ProviderFirstName  ProviderId          ProcedureCode  \n",
       "0                AB             Irvin     1457822                  97153  \n",
       "2                MI           Yarelis     1128037                  97155  \n",
       "3                OV             Yunia     1281163         Documentation   \n",
       "5                JS         Gabriella     1465912         Documentation   \n",
       "6                RS         Gabriella     1465912         Documentation   \n",
       "..              ...               ...         ...                    ...  \n",
       "558              BQ           Rahimil     1593879  97155:  Non- Billable  \n",
       "560              JH           Rahimil     1593879  97155:  Non- Billable  \n",
       "562              JH           Rahimil     1593879         Documentation   \n",
       "563              JR           Rahimil     1593879  97155:  Non- Billable  \n",
       "566              JR          Griselda     1627262                  97153  \n",
       "\n",
       "[395 rows x 8 columns]"
      ],
      "text/html": "<div>\n<style scoped>\n    .dataframe tbody tr th:only-of-type {\n        vertical-align: middle;\n    }\n\n    .dataframe tbody tr th {\n        vertical-align: top;\n    }\n\n    .dataframe thead th {\n        text-align: right;\n    }\n</style>\n<table border=\"1\" class=\"dataframe\">\n  <thead>\n    <tr style=\"text-align: right;\">\n      <th></th>\n      <th>DateOfService</th>\n      <th>TimeWorkedFrom</th>\n      <th>TimeWorkedTo</th>\n      <th>TimeWorkedInHours</th>\n      <th>ClientFirstName</th>\n      <th>ProviderFirstName</th>\n      <th>ProviderId</th>\n      <th>ProcedureCode</th>\n    </tr>\n  </thead>\n  <tbody>\n    <tr>\n      <td>0</td>\n      <td>6/1/2021 0:00</td>\n      <td>6/1/2021 7:55</td>\n      <td>6/1/2021 13:32</td>\n      <td>5.62</td>\n      <td>AB</td>\n      <td>Irvin</td>\n      <td>1457822</td>\n      <td>97153</td>\n    </tr>\n    <tr>\n      <td>2</td>\n      <td>6/1/2021 0:00</td>\n      <td>6/1/2021 13:00</td>\n      <td>6/1/2021 15:00</td>\n      <td>2.00</td>\n      <td>MI</td>\n      <td>Yarelis</td>\n      <td>1128037</td>\n      <td>97155</td>\n    </tr>\n    <tr>\n      <td>3</td>\n      <td>6/1/2021 0:00</td>\n      <td>6/1/2021 21:00</td>\n      <td>6/1/2021 22:00</td>\n      <td>1.00</td>\n      <td>OV</td>\n      <td>Yunia</td>\n      <td>1281163</td>\n      <td>Documentation</td>\n    </tr>\n    <tr>\n      <td>5</td>\n      <td>6/1/2021 0:00</td>\n      <td>6/1/2021 10:00</td>\n      <td>6/1/2021 12:00</td>\n      <td>2.00</td>\n      <td>JS</td>\n      <td>Gabriella</td>\n      <td>1465912</td>\n      <td>Documentation</td>\n    </tr>\n    <tr>\n      <td>6</td>\n      <td>6/1/2021 0:00</td>\n      <td>6/1/2021 14:30</td>\n      <td>6/1/2021 16:30</td>\n      <td>2.00</td>\n      <td>RS</td>\n      <td>Gabriella</td>\n      <td>1465912</td>\n      <td>Documentation</td>\n    </tr>\n    <tr>\n      <td>...</td>\n      <td>...</td>\n      <td>...</td>\n      <td>...</td>\n      <td>...</td>\n      <td>...</td>\n      <td>...</td>\n      <td>...</td>\n      <td>...</td>\n    </tr>\n    <tr>\n      <td>558</td>\n      <td>6/29/2021 0:00</td>\n      <td>6/29/2021 14:00</td>\n      <td>6/29/2021 15:00</td>\n      <td>1.00</td>\n      <td>BQ</td>\n      <td>Rahimil</td>\n      <td>1593879</td>\n      <td>97155:  Non- Billable</td>\n    </tr>\n    <tr>\n      <td>560</td>\n      <td>6/29/2021 0:00</td>\n      <td>6/29/2021 16:00</td>\n      <td>6/29/2021 17:00</td>\n      <td>1.00</td>\n      <td>JH</td>\n      <td>Rahimil</td>\n      <td>1593879</td>\n      <td>97155:  Non- Billable</td>\n    </tr>\n    <tr>\n      <td>562</td>\n      <td>6/29/2021 0:00</td>\n      <td>6/29/2021 18:00</td>\n      <td>6/29/2021 19:00</td>\n      <td>1.00</td>\n      <td>JH</td>\n      <td>Rahimil</td>\n      <td>1593879</td>\n      <td>Documentation</td>\n    </tr>\n    <tr>\n      <td>563</td>\n      <td>6/30/2021 0:00</td>\n      <td>6/30/2021 16:00</td>\n      <td>6/30/2021 18:00</td>\n      <td>2.00</td>\n      <td>JR</td>\n      <td>Rahimil</td>\n      <td>1593879</td>\n      <td>97155:  Non- Billable</td>\n    </tr>\n    <tr>\n      <td>566</td>\n      <td>6/30/2021 0:00</td>\n      <td>6/30/2021 16:00</td>\n      <td>6/30/2021 20:00</td>\n      <td>4.00</td>\n      <td>JR</td>\n      <td>Griselda</td>\n      <td>1627262</td>\n      <td>97153</td>\n    </tr>\n  </tbody>\n</table>\n<p>395 rows × 8 columns</p>\n</div>"
     },
     "metadata": {},
     "execution_count": 252
    }
   ],
   "source": [
    "filter = [i.replace(' ', '').lower() in valid for i in data.ProcedureCode]\n",
    "data['Filter1'] = filter\n",
    "data = data[data.Filter1]\n",
    "data = data.drop('Filter1', 1)\n",
    "data"
   ]
  },
  {
   "cell_type": "code",
   "execution_count": 253,
   "metadata": {},
   "outputs": [],
   "source": [
    "providers = data['ProviderId']\n",
    "providers = set(providers)"
   ]
  },
  {
   "cell_type": "code",
   "execution_count": null,
   "metadata": {},
   "outputs": [],
   "source": []
  },
  {
   "cell_type": "code",
   "execution_count": 254,
   "metadata": {},
   "outputs": [],
   "source": [
    "#depurar esto\n",
    "supervisors_codes = ['97155', '97155:non-billeable', 'remoteindividualsupervision']\n",
    "filter_supervisors =[i.replace(' ', '').lower() in supervisors_codes for i in data.ProcedureCode]\n",
    "supervisors_data = data[filter_supervisors]"
   ]
  },
  {
   "cell_type": "code",
   "execution_count": null,
   "metadata": {},
   "outputs": [],
   "source": []
  },
  {
   "cell_type": "code",
   "execution_count": 255,
   "metadata": {
    "scrolled": false
   },
   "outputs": [],
   "source": [
    "import numpy as np\n",
    "errors = []\n",
    "notifications = []\n",
    "depured_data = []\n",
    "doc_depured = []\n",
    "rbt53_depured = []\n",
    "providersErrors = []\n",
    "\n",
    "cols = supervisors_data.columns\n",
    "\n",
    "providerId = list(cols).index('ProviderId')\n",
    "providerName = list(cols).index('ProviderFirstName')\n",
    "procedureCode = list(cols).index('ProcedureCode')\n",
    "timeFrom = list(cols).index('TimeWorkedFrom')\n",
    "timeTo = list(cols).index('TimeWorkedTo')\n",
    "client = list(cols).index('ClientFirstName')\n",
    "\n",
    "supervisors_data = np.array(supervisors_data)\n",
    "\n",
    "for k in range(len(supervisors_data)):\n",
    "    i = supervisors_data[k]\n",
    "    if i[procedureCode].replace(' ', '').lower() == 'remoteindividualsupervision':\n",
    "        if i[providerId] in list(trainees['ProviderId']):\n",
    "            notifications.append(i)\n",
    "            i[procedureCode] = 'Documentation'\n",
    "            doc_depured.append(i)\n",
    "            continue\n",
    "        elif i[providerId] in list(RBTs['ProviderId']):\n",
    "            notifications.append(i)\n",
    "            i[procedureCode] = 'Documentation'\n",
    "            rbt53_depured.append(i)\n",
    "            continue\n",
    "    if i[procedureCode].replace(' ', '').lower() == '97155':\n",
    "        if i[providerId] in list(RBTs['ProviderId']):\n",
    "            errors.append(i)\n",
    "            providersErrors.append(i[providerId])\n",
    "            continue\n",
    "    if i[procedureCode].replace(' ', '').lower() == '97155:non-billeable':\n",
    "        if i[providerId] in list(trainees['ProviderId']):\n",
    "            errors.append(i)\n",
    "            providersErrors.append(i[providerId])\n",
    "            continue\n",
    "        elif i[providerId] in list(RBTs['ProviderId']):\n",
    "            errors.append(i)\n",
    "            providersErrors.append(i[providerId])\n",
    "            continue\n",
    "    depured_data.append(i)\n",
    "    \n"
   ]
  },
  {
   "cell_type": "code",
   "execution_count": null,
   "metadata": {},
   "outputs": [],
   "source": []
  },
  {
   "cell_type": "code",
   "execution_count": 256,
   "metadata": {},
   "outputs": [],
   "source": [
    "\n",
    "import numpy as np\n",
    "from datetime import datetime\n",
    "\n",
    "def verify_valid_overlapping(entry, i):\n",
    "    procedure = entry[procedureCode]\n",
    "    if entry[providerId] == i[providerId]:\n",
    "        return False\n",
    "    if procedure.lower().replace(' ', '') in ['97153', '97153:non-billable'] and i[procedureCode] in ['97155', '97155:non-billable']:\n",
    "        return True\n",
    "    if procedure.lower().replace(' ', '') in ['documentation'] and i[procedureCode] in ['remoteindividualsupervision']:\n",
    "        return True\n",
    "    return False\n",
    "\n",
    "def calculate_overlapping(entry):\n",
    "    overlapping = []\n",
    "    entry_start = datetime.strptime(entry[timeFrom], '%m/%d/%Y %H:%M')\n",
    "    entry_end = datetime.strptime(entry[timeTo], '%m/%d/%Y %H:%M')\n",
    "    procedure = entry[procedureCode]\n",
    "    \n",
    "    for i in depured_data:\n",
    "        if  verify_valid_overlapping(entry,i):\n",
    "            start = datetime.strptime(i[timeFrom], '%m/%d/%Y %H:%M')\n",
    "            end = datetime.strptime(i[timeTo], '%m/%d/%Y %H:%M')\n",
    "            if not i[client] == entry[client]:\n",
    "                continue\n",
    "            else:\n",
    "#                 print(i,entry)\n",
    "                pass\n",
    "            if (entry_start >= start and entry_start <= end) or (entry_end >= start and entry_end <= end) or (start >= entry_start and end <= entry_end):\n",
    "                time = min(entry_end,end)-max(entry_start, start)\n",
    "                if entry[providerName] == 'Beatriz' and i[providerName] == 'Yarelis':\n",
    "                    print(time, entry,i)\n",
    "                overlapping.append((entry,i, time))\n",
    "    return overlapping"
   ]
  },
  {
   "cell_type": "code",
   "execution_count": 257,
   "metadata": {},
   "outputs": [],
   "source": [
    "code53 = np.array(data[[i.lower().replace(' ', '') == '97153' for i in data['ProcedureCode']]])\n",
    "code_doc = np.array(data[[i.lower().replace(' ', '') == 'documentation' for i in data['ProcedureCode']]])"
   ]
  },
  {
   "cell_type": "code",
   "execution_count": 258,
   "metadata": {},
   "outputs": [],
   "source": [
    "\n",
    "for i in code_doc:\n",
    "    if i[procedureCode].replace(' ', '').lower() == 'documentation':\n",
    "        \n",
    "        if i[providerId] in list(supervisors['ProviderId']):\n",
    "            notifications.append(i)\n",
    "            i[providerId] = 'Remote Individual Supervision'\n",
    "            depured_data.append(i)\n",
    "            continue\n",
    "        \n",
    "        elif i[providerId] in list(risen_supervisors['ProviderId']):\n",
    "            notifications.append(i)\n",
    "            i[procedureCode] = 'Remote Individual Supervision'\n",
    "            depured_data.append(i)\n",
    "            continue\n",
    "    \n",
    "    doc_depured.append(i)\n",
    "\n",
    "for i in code53:\n",
    "    if i[procedureCode].replace(' ', '').lower() == 'documentation':\n",
    "    \n",
    "        if i[providerId] in list(supervisors['ProviderId']):\n",
    "            errors.append(i)\n",
    "            providersErrors.append(i[providerId])\n",
    "            continue\n",
    "    \n",
    "        elif i[providerId] in list(risen_supervisors['ProviderId']):\n",
    "            errors.append(i)\n",
    "            providersErrors.append(i[providerId])\n",
    "            continue\n",
    "    \n",
    "    rbt53_depured.append(i)\n",
    "    \n",
    "if len(doc_depured) > 0:\n",
    "    doc_depured = np.stack(doc_depured, axis=0)\n",
    "if len(rbt53_depured) > 0:\n",
    "    rbt53_depured = np.stack(rbt53_depured, axis=0) \n",
    "if len(depured_data) > 0:    \n",
    "    depured_data = np.stack(depured_data, axis=0)\n",
    "if len(errors) > 0:\n",
    "    errors = np.stack(errors, axis=0)"
   ]
  },
  {
   "cell_type": "code",
   "execution_count": null,
   "metadata": {},
   "outputs": [],
   "source": []
  },
  {
   "cell_type": "code",
   "execution_count": 259,
   "metadata": {
    "tags": []
   },
   "outputs": [
    {
     "output_type": "stream",
     "name": "stdout",
     "text": [
      "2:00:00 ['6/2/2021 0:00' '6/2/2021 16:00' '6/2/2021 20:00' 4.0 'BR' 'Beatriz'\n",
      " 1288098 '97153'] ['6/2/2021 0:00' '6/2/2021 16:00' '6/2/2021 18:00' 2.0 'BR' 'Yarelis'\n",
      " 1128037 '97155']\n",
      "2:00:00 ['6/3/2021 0:00' '6/3/2021 9:00' '6/3/2021 13:00' 4.0 'AP' 'Beatriz'\n",
      " 1288098 '97153'] ['6/3/2021 0:00' '6/3/2021 9:00' '6/3/2021 11:00' 2.0 'AP' 'Yarelis'\n",
      " 1128037 '97155']\n",
      "1:30:00 ['6/9/2021 0:00' '6/9/2021 16:30' '6/9/2021 20:30' 4.0 'BR' 'Beatriz'\n",
      " 1288098 '97153'] ['6/9/2021 0:00' '6/9/2021 16:00' '6/9/2021 18:00' 2.0 'BR' 'Yarelis'\n",
      " 1128037 '97155']\n",
      "1:30:00 ['6/16/2021 0:00' '6/16/2021 16:30' '6/16/2021 20:30' 4.0 'BR' 'Beatriz'\n",
      " 1288098 '97153'] ['6/16/2021 0:00' '6/16/2021 16:00' '6/16/2021 18:00' 2.0 'BR' 'Yarelis'\n",
      " 1128037 '97155']\n",
      "2:00:00 ['6/24/2021 0:00' '6/24/2021 16:30' '6/24/2021 20:30' 4.0 'BR' 'Beatriz'\n",
      " 1288098 '97153'] ['6/24/2021 0:00' '6/24/2021 17:00' '6/24/2021 19:00' 2.0 'BR' 'Yarelis'\n",
      " 1128037 '97155']\n",
      "1:30:00 ['6/30/2021 0:00' '6/30/2021 16:30' '6/30/2021 20:30' 4.0 'BR' 'Beatriz'\n",
      " 1288098 '97153'] ['6/30/2021 0:00' '6/30/2021 16:00' '6/30/2021 18:00' 2.0 'BR' 'Yarelis'\n",
      " 1128037 '97155']\n",
      "2:00:00 ['6/2/2021 0:00' '6/2/2021 16:00' '6/2/2021 20:00' 4.0 'BR' 'Beatriz'\n",
      " 1288098 '97153'] ['6/2/2021 0:00' '6/2/2021 16:00' '6/2/2021 18:00' 2.0 'BR' 'Yarelis'\n",
      " 1128037 '97155']\n",
      "2:00:00 ['6/3/2021 0:00' '6/3/2021 9:00' '6/3/2021 13:00' 4.0 'AP' 'Beatriz'\n",
      " 1288098 '97153'] ['6/3/2021 0:00' '6/3/2021 9:00' '6/3/2021 11:00' 2.0 'AP' 'Yarelis'\n",
      " 1128037 '97155']\n",
      "1:30:00 ['6/9/2021 0:00' '6/9/2021 16:30' '6/9/2021 20:30' 4.0 'BR' 'Beatriz'\n",
      " 1288098 '97153'] ['6/9/2021 0:00' '6/9/2021 16:00' '6/9/2021 18:00' 2.0 'BR' 'Yarelis'\n",
      " 1128037 '97155']\n",
      "1:30:00 ['6/16/2021 0:00' '6/16/2021 16:30' '6/16/2021 20:30' 4.0 'BR' 'Beatriz'\n",
      " 1288098 '97153'] ['6/16/2021 0:00' '6/16/2021 16:00' '6/16/2021 18:00' 2.0 'BR' 'Yarelis'\n",
      " 1128037 '97155']\n",
      "2:00:00 ['6/24/2021 0:00' '6/24/2021 16:30' '6/24/2021 20:30' 4.0 'BR' 'Beatriz'\n",
      " 1288098 '97153'] ['6/24/2021 0:00' '6/24/2021 17:00' '6/24/2021 19:00' 2.0 'BR' 'Yarelis'\n",
      " 1128037 '97155']\n",
      "1:30:00 ['6/30/2021 0:00' '6/30/2021 16:30' '6/30/2021 20:30' 4.0 'BR' 'Beatriz'\n",
      " 1288098 '97153'] ['6/30/2021 0:00' '6/30/2021 16:00' '6/30/2021 18:00' 2.0 'BR' 'Yarelis'\n",
      " 1128037 '97155']\n"
     ]
    }
   ],
   "source": [
    "overlappings = {}\n",
    "providers_data_with_errors = {}\n",
    "dat = np.concatenate((doc_depured, rbt53_depured))\n",
    "# print(dat)\n",
    "for i in dat:\n",
    "    \n",
    "    new_ol = calculate_overlapping(i)\n",
    "    \n",
    "    if i[providerId] in providersErrors:\n",
    "        if not i[providerId] in providers_data_with_errors:\n",
    "            overlappings[i[providerId]] = []\n",
    "            \n",
    "        providers_data_with_errors[i[providerId]].append(new_ol) \n",
    "        continue\n",
    "    \n",
    "    if not i[providerId] in overlappings:\n",
    "        overlappings[i[providerId]] = []\n",
    "    \n",
    "    if len(new_ol) != 0:\n",
    "        overlappings[i[providerId]].append(new_ol) \n",
    "\n",
    "for i in rbt53_depured:\n",
    "    new_ol = calculate_overlapping(i)\n",
    "    \n",
    "    if i[providerId] in providersErrors:\n",
    "        if not i[providerId] in providers_data_with_errors:\n",
    "            overlappings[i[providerId]] = []\n",
    "            \n",
    "        providers_data_with_errors[i[providerId]].append(new_ol) \n",
    "        continue\n",
    "    \n",
    "    if not i[providerId] in overlappings:\n",
    "        overlappings[i[providerId]] = []\n",
    "    \n",
    "    if len(new_ol) != 0:\n",
    "        overlappings[i[providerId]].append(new_ol) \n",
    "# overlappings"
   ]
  },
  {
   "cell_type": "code",
   "execution_count": 260,
   "metadata": {},
   "outputs": [
    {
     "output_type": "execute_result",
     "data": {
      "text/plain": [
       "[]"
      ]
     },
     "metadata": {},
     "execution_count": 260
    }
   ],
   "source": [
    "errors"
   ]
  },
  {
   "cell_type": "code",
   "execution_count": 261,
   "metadata": {},
   "outputs": [
    {
     "output_type": "execute_result",
     "data": {
      "text/plain": [
       "     DateOfService   TimeWorkedFrom     TimeWorkedTo TimeWorkedInHours  \\\n",
       "0   6/14/2021 0:00  6/14/2021 20:00  6/14/2021 21:00                 1   \n",
       "1   6/14/2021 0:00  6/14/2021 19:00  6/14/2021 20:00                 1   \n",
       "2   6/17/2021 0:00  6/17/2021 17:00  6/17/2021 18:00                 1   \n",
       "3   6/15/2021 0:00  6/15/2021 19:30  6/15/2021 20:30                 1   \n",
       "4   6/17/2021 0:00  6/17/2021 21:00  6/17/2021 22:00                 1   \n",
       "..             ...              ...              ...               ...   \n",
       "62  6/30/2021 0:00  6/30/2021 14:30  6/30/2021 16:30                 2   \n",
       "63  6/21/2021 0:00  6/21/2021 19:00  6/21/2021 20:00                 1   \n",
       "64  6/22/2021 0:00  6/22/2021 13:00  6/22/2021 14:00                 1   \n",
       "65  6/23/2021 0:00  6/23/2021 15:00  6/23/2021 16:00                 1   \n",
       "66  6/29/2021 0:00  6/29/2021 18:00  6/29/2021 19:00                 1   \n",
       "\n",
       "   ClientFirstName ProviderFirstName                     ProviderId  \\\n",
       "0               SM             Maggy                        1146899   \n",
       "1               OC           Arianne                        1405509   \n",
       "2               EM             Aicha                        1328150   \n",
       "3               EV            Celina                        1601150   \n",
       "4               AP             Yunia                        1281163   \n",
       "..             ...               ...                            ...   \n",
       "62              AB         Gabriella  Remote Individual Supervision   \n",
       "63         Patient          Nilvia L                        1191214   \n",
       "64         Patient          Nilvia L                        1191214   \n",
       "65         Patient          Nilvia L                        1191214   \n",
       "66              JH           Rahimil                        1593879   \n",
       "\n",
       "                    ProcedureCode  \n",
       "0                   Documentation  \n",
       "1                   Documentation  \n",
       "2                   Documentation  \n",
       "3                   Documentation  \n",
       "4                   Documentation  \n",
       "..                            ...  \n",
       "62                 Documentation   \n",
       "63  Remote Individual Supervision  \n",
       "64  Remote Individual Supervision  \n",
       "65  Remote Individual Supervision  \n",
       "66  Remote Individual Supervision  \n",
       "\n",
       "[67 rows x 8 columns]"
      ],
      "text/html": "<div>\n<style scoped>\n    .dataframe tbody tr th:only-of-type {\n        vertical-align: middle;\n    }\n\n    .dataframe tbody tr th {\n        vertical-align: top;\n    }\n\n    .dataframe thead th {\n        text-align: right;\n    }\n</style>\n<table border=\"1\" class=\"dataframe\">\n  <thead>\n    <tr style=\"text-align: right;\">\n      <th></th>\n      <th>DateOfService</th>\n      <th>TimeWorkedFrom</th>\n      <th>TimeWorkedTo</th>\n      <th>TimeWorkedInHours</th>\n      <th>ClientFirstName</th>\n      <th>ProviderFirstName</th>\n      <th>ProviderId</th>\n      <th>ProcedureCode</th>\n    </tr>\n  </thead>\n  <tbody>\n    <tr>\n      <td>0</td>\n      <td>6/14/2021 0:00</td>\n      <td>6/14/2021 20:00</td>\n      <td>6/14/2021 21:00</td>\n      <td>1</td>\n      <td>SM</td>\n      <td>Maggy</td>\n      <td>1146899</td>\n      <td>Documentation</td>\n    </tr>\n    <tr>\n      <td>1</td>\n      <td>6/14/2021 0:00</td>\n      <td>6/14/2021 19:00</td>\n      <td>6/14/2021 20:00</td>\n      <td>1</td>\n      <td>OC</td>\n      <td>Arianne</td>\n      <td>1405509</td>\n      <td>Documentation</td>\n    </tr>\n    <tr>\n      <td>2</td>\n      <td>6/17/2021 0:00</td>\n      <td>6/17/2021 17:00</td>\n      <td>6/17/2021 18:00</td>\n      <td>1</td>\n      <td>EM</td>\n      <td>Aicha</td>\n      <td>1328150</td>\n      <td>Documentation</td>\n    </tr>\n    <tr>\n      <td>3</td>\n      <td>6/15/2021 0:00</td>\n      <td>6/15/2021 19:30</td>\n      <td>6/15/2021 20:30</td>\n      <td>1</td>\n      <td>EV</td>\n      <td>Celina</td>\n      <td>1601150</td>\n      <td>Documentation</td>\n    </tr>\n    <tr>\n      <td>4</td>\n      <td>6/17/2021 0:00</td>\n      <td>6/17/2021 21:00</td>\n      <td>6/17/2021 22:00</td>\n      <td>1</td>\n      <td>AP</td>\n      <td>Yunia</td>\n      <td>1281163</td>\n      <td>Documentation</td>\n    </tr>\n    <tr>\n      <td>...</td>\n      <td>...</td>\n      <td>...</td>\n      <td>...</td>\n      <td>...</td>\n      <td>...</td>\n      <td>...</td>\n      <td>...</td>\n      <td>...</td>\n    </tr>\n    <tr>\n      <td>62</td>\n      <td>6/30/2021 0:00</td>\n      <td>6/30/2021 14:30</td>\n      <td>6/30/2021 16:30</td>\n      <td>2</td>\n      <td>AB</td>\n      <td>Gabriella</td>\n      <td>Remote Individual Supervision</td>\n      <td>Documentation</td>\n    </tr>\n    <tr>\n      <td>63</td>\n      <td>6/21/2021 0:00</td>\n      <td>6/21/2021 19:00</td>\n      <td>6/21/2021 20:00</td>\n      <td>1</td>\n      <td>Patient</td>\n      <td>Nilvia L</td>\n      <td>1191214</td>\n      <td>Remote Individual Supervision</td>\n    </tr>\n    <tr>\n      <td>64</td>\n      <td>6/22/2021 0:00</td>\n      <td>6/22/2021 13:00</td>\n      <td>6/22/2021 14:00</td>\n      <td>1</td>\n      <td>Patient</td>\n      <td>Nilvia L</td>\n      <td>1191214</td>\n      <td>Remote Individual Supervision</td>\n    </tr>\n    <tr>\n      <td>65</td>\n      <td>6/23/2021 0:00</td>\n      <td>6/23/2021 15:00</td>\n      <td>6/23/2021 16:00</td>\n      <td>1</td>\n      <td>Patient</td>\n      <td>Nilvia L</td>\n      <td>1191214</td>\n      <td>Remote Individual Supervision</td>\n    </tr>\n    <tr>\n      <td>66</td>\n      <td>6/29/2021 0:00</td>\n      <td>6/29/2021 18:00</td>\n      <td>6/29/2021 19:00</td>\n      <td>1</td>\n      <td>JH</td>\n      <td>Rahimil</td>\n      <td>1593879</td>\n      <td>Remote Individual Supervision</td>\n    </tr>\n  </tbody>\n</table>\n<p>67 rows × 8 columns</p>\n</div>"
     },
     "metadata": {},
     "execution_count": 261
    }
   ],
   "source": [
    "notifications = pd.DataFrame(np.stack(notifications, axis=0), columns=cols)\n",
    "notifications"
   ]
  },
  {
   "cell_type": "code",
   "execution_count": 262,
   "metadata": {},
   "outputs": [],
   "source": [
    "import json\n",
    "if len(errors) > 0:\n",
    "    with open('overlapping_missing_errors.json', 'w') as f:\n",
    "        f.write(json.dumps(providers_data_with_errors))\n",
    "    with open('supervisors_data.json', 'w') as f:\n",
    "        f.write(json.dumps(supervisors_data))\n",
    "if len(notifications) > 0:\n",
    "    with open('auto_fixed_errors.json', 'w') as f:\n",
    "        notifications.to_csv('auto_fixed.csv')"
   ]
  },
  {
   "cell_type": "code",
   "execution_count": 263,
   "metadata": {},
   "outputs": [],
   "source": [
    "from os import path\n",
    "\n",
    "lab = list(cols)\n",
    "lab.append('MeetingDuration')\n",
    "\n",
    "for i in overlappings:\n",
    "    ol = []\n",
    "    for j in overlappings[i]:\n",
    "        d,i_ol,time = j[0]\n",
    "        i_ol = np.append(i_ol,time)\n",
    "        ol.append(i_ol)\n",
    "    \n",
    "    ol = pd.DataFrame(np.stack(ol, axis=0), columns=lab)\n",
    "    ol.to_csv(path.join('done',str(i)+'.csv'))\n",
    "# if len(overlappings) > 0:\n",
    "#     with open('overlapping.json', 'w') as f:\n",
    "#         f.write(json.dumps(overlappings))"
   ]
  },
  {
   "cell_type": "code",
   "execution_count": 264,
   "metadata": {},
   "outputs": [
    {
     "output_type": "execute_result",
     "data": {
      "text/plain": [
       "     DateOfService   TimeWorkedFrom     TimeWorkedTo TimeWorkedInHours  \\\n",
       "0   6/14/2021 0:00  6/14/2021 20:00  6/14/2021 21:00                 1   \n",
       "1   6/14/2021 0:00  6/14/2021 19:00  6/14/2021 20:00                 1   \n",
       "2   6/17/2021 0:00  6/17/2021 17:00  6/17/2021 18:00                 1   \n",
       "3   6/15/2021 0:00  6/15/2021 19:30  6/15/2021 20:30                 1   \n",
       "4   6/17/2021 0:00  6/17/2021 21:00  6/17/2021 22:00                 1   \n",
       "..             ...              ...              ...               ...   \n",
       "62  6/30/2021 0:00  6/30/2021 14:30  6/30/2021 16:30                 2   \n",
       "63  6/21/2021 0:00  6/21/2021 19:00  6/21/2021 20:00                 1   \n",
       "64  6/22/2021 0:00  6/22/2021 13:00  6/22/2021 14:00                 1   \n",
       "65  6/23/2021 0:00  6/23/2021 15:00  6/23/2021 16:00                 1   \n",
       "66  6/29/2021 0:00  6/29/2021 18:00  6/29/2021 19:00                 1   \n",
       "\n",
       "   ClientFirstName ProviderFirstName                     ProviderId  \\\n",
       "0               SM             Maggy                        1146899   \n",
       "1               OC           Arianne                        1405509   \n",
       "2               EM             Aicha                        1328150   \n",
       "3               EV            Celina                        1601150   \n",
       "4               AP             Yunia                        1281163   \n",
       "..             ...               ...                            ...   \n",
       "62              AB         Gabriella  Remote Individual Supervision   \n",
       "63         Patient          Nilvia L                        1191214   \n",
       "64         Patient          Nilvia L                        1191214   \n",
       "65         Patient          Nilvia L                        1191214   \n",
       "66              JH           Rahimil                        1593879   \n",
       "\n",
       "                    ProcedureCode  \n",
       "0                   Documentation  \n",
       "1                   Documentation  \n",
       "2                   Documentation  \n",
       "3                   Documentation  \n",
       "4                   Documentation  \n",
       "..                            ...  \n",
       "62                 Documentation   \n",
       "63  Remote Individual Supervision  \n",
       "64  Remote Individual Supervision  \n",
       "65  Remote Individual Supervision  \n",
       "66  Remote Individual Supervision  \n",
       "\n",
       "[67 rows x 8 columns]"
      ],
      "text/html": "<div>\n<style scoped>\n    .dataframe tbody tr th:only-of-type {\n        vertical-align: middle;\n    }\n\n    .dataframe tbody tr th {\n        vertical-align: top;\n    }\n\n    .dataframe thead th {\n        text-align: right;\n    }\n</style>\n<table border=\"1\" class=\"dataframe\">\n  <thead>\n    <tr style=\"text-align: right;\">\n      <th></th>\n      <th>DateOfService</th>\n      <th>TimeWorkedFrom</th>\n      <th>TimeWorkedTo</th>\n      <th>TimeWorkedInHours</th>\n      <th>ClientFirstName</th>\n      <th>ProviderFirstName</th>\n      <th>ProviderId</th>\n      <th>ProcedureCode</th>\n    </tr>\n  </thead>\n  <tbody>\n    <tr>\n      <td>0</td>\n      <td>6/14/2021 0:00</td>\n      <td>6/14/2021 20:00</td>\n      <td>6/14/2021 21:00</td>\n      <td>1</td>\n      <td>SM</td>\n      <td>Maggy</td>\n      <td>1146899</td>\n      <td>Documentation</td>\n    </tr>\n    <tr>\n      <td>1</td>\n      <td>6/14/2021 0:00</td>\n      <td>6/14/2021 19:00</td>\n      <td>6/14/2021 20:00</td>\n      <td>1</td>\n      <td>OC</td>\n      <td>Arianne</td>\n      <td>1405509</td>\n      <td>Documentation</td>\n    </tr>\n    <tr>\n      <td>2</td>\n      <td>6/17/2021 0:00</td>\n      <td>6/17/2021 17:00</td>\n      <td>6/17/2021 18:00</td>\n      <td>1</td>\n      <td>EM</td>\n      <td>Aicha</td>\n      <td>1328150</td>\n      <td>Documentation</td>\n    </tr>\n    <tr>\n      <td>3</td>\n      <td>6/15/2021 0:00</td>\n      <td>6/15/2021 19:30</td>\n      <td>6/15/2021 20:30</td>\n      <td>1</td>\n      <td>EV</td>\n      <td>Celina</td>\n      <td>1601150</td>\n      <td>Documentation</td>\n    </tr>\n    <tr>\n      <td>4</td>\n      <td>6/17/2021 0:00</td>\n      <td>6/17/2021 21:00</td>\n      <td>6/17/2021 22:00</td>\n      <td>1</td>\n      <td>AP</td>\n      <td>Yunia</td>\n      <td>1281163</td>\n      <td>Documentation</td>\n    </tr>\n    <tr>\n      <td>...</td>\n      <td>...</td>\n      <td>...</td>\n      <td>...</td>\n      <td>...</td>\n      <td>...</td>\n      <td>...</td>\n      <td>...</td>\n      <td>...</td>\n    </tr>\n    <tr>\n      <td>62</td>\n      <td>6/30/2021 0:00</td>\n      <td>6/30/2021 14:30</td>\n      <td>6/30/2021 16:30</td>\n      <td>2</td>\n      <td>AB</td>\n      <td>Gabriella</td>\n      <td>Remote Individual Supervision</td>\n      <td>Documentation</td>\n    </tr>\n    <tr>\n      <td>63</td>\n      <td>6/21/2021 0:00</td>\n      <td>6/21/2021 19:00</td>\n      <td>6/21/2021 20:00</td>\n      <td>1</td>\n      <td>Patient</td>\n      <td>Nilvia L</td>\n      <td>1191214</td>\n      <td>Remote Individual Supervision</td>\n    </tr>\n    <tr>\n      <td>64</td>\n      <td>6/22/2021 0:00</td>\n      <td>6/22/2021 13:00</td>\n      <td>6/22/2021 14:00</td>\n      <td>1</td>\n      <td>Patient</td>\n      <td>Nilvia L</td>\n      <td>1191214</td>\n      <td>Remote Individual Supervision</td>\n    </tr>\n    <tr>\n      <td>65</td>\n      <td>6/23/2021 0:00</td>\n      <td>6/23/2021 15:00</td>\n      <td>6/23/2021 16:00</td>\n      <td>1</td>\n      <td>Patient</td>\n      <td>Nilvia L</td>\n      <td>1191214</td>\n      <td>Remote Individual Supervision</td>\n    </tr>\n    <tr>\n      <td>66</td>\n      <td>6/29/2021 0:00</td>\n      <td>6/29/2021 18:00</td>\n      <td>6/29/2021 19:00</td>\n      <td>1</td>\n      <td>JH</td>\n      <td>Rahimil</td>\n      <td>1593879</td>\n      <td>Remote Individual Supervision</td>\n    </tr>\n  </tbody>\n</table>\n<p>67 rows × 8 columns</p>\n</div>"
     },
     "metadata": {},
     "execution_count": 264
    }
   ],
   "source": [
    "notifications"
   ]
  },
  {
   "cell_type": "code",
   "execution_count": 265,
   "metadata": {},
   "outputs": [
    {
     "output_type": "stream",
     "name": "stdout",
     "text": [
      "[(array(['6/18/2021 0:00', '6/18/2021 8:30', '6/18/2021 14:30', 6.0, 'SM',\n       'Maggy', 1146899, '97153'], dtype=object), array(['6/18/2021 0:00', '6/18/2021 9:00', '6/18/2021 11:00', 2.0, 'SM',\n       'Yarelis', 1128037, '97155'], dtype=object), datetime.timedelta(seconds=7200))]\n[(array(['6/25/2021 0:00', '6/25/2021 8:30', '6/25/2021 14:30', 6.0, 'SM',\n       'Maggy', 1146899, '97153'], dtype=object), array(['6/25/2021 0:00', '6/25/2021 9:00', '6/25/2021 11:00', 2.0, 'SM',\n       'Yarelis', 1128037, '97155'], dtype=object), datetime.timedelta(seconds=7200))]\n[(array(['6/18/2021 0:00', '6/18/2021 8:30', '6/18/2021 14:30', 6.0, 'SM',\n       'Maggy', 1146899, '97153'], dtype=object), array(['6/18/2021 0:00', '6/18/2021 9:00', '6/18/2021 11:00', 2.0, 'SM',\n       'Yarelis', 1128037, '97155'], dtype=object), datetime.timedelta(seconds=7200))]\n[(array(['6/25/2021 0:00', '6/25/2021 8:30', '6/25/2021 14:30', 6.0, 'SM',\n       'Maggy', 1146899, '97153'], dtype=object), array(['6/25/2021 0:00', '6/25/2021 9:00', '6/25/2021 11:00', 2.0, 'SM',\n       'Yarelis', 1128037, '97155'], dtype=object), datetime.timedelta(seconds=7200))]\n"
     ]
    }
   ],
   "source": [
    "for i in overlappings[1146899]:\n",
    "    print(i)"
   ]
  },
  {
   "cell_type": "code",
   "execution_count": 266,
   "metadata": {},
   "outputs": [
    {
     "output_type": "stream",
     "name": "stdout",
     "text": [
      "['6/2/2021 0:00' '6/2/2021 16:00' '6/2/2021 20:00' 4.0 'BR' 'Beatriz'\n 1288098 '97153']\n['6/3/2021 0:00' '6/3/2021 9:00' '6/3/2021 13:00' 4.0 'AP' 'Beatriz'\n 1288098 '97153']\n['6/4/2021 0:00' '6/4/2021 10:00' '6/4/2021 17:00' 7.0 'ASS' 'Beatriz'\n 1288098 '97153']\n['6/7/2021 0:00' '6/7/2021 10:00' '6/7/2021 16:00' 6.0 'ASS' 'Beatriz'\n 1288098 '97153']\n['6/9/2021 0:00' '6/9/2021 16:30' '6/9/2021 20:30' 4.0 'BR' 'Beatriz'\n 1288098 '97153']\n['6/16/2021 0:00' '6/16/2021 16:30' '6/16/2021 20:30' 4.0 'BR' 'Beatriz'\n 1288098 '97153']\n['6/18/2021 0:00' '6/18/2021 10:00' '6/18/2021 16:00' 6.0 'ASS' 'Beatriz'\n 1288098 '97153']\n['6/24/2021 0:00' '6/24/2021 16:30' '6/24/2021 20:30' 4.0 'BR' 'Beatriz'\n 1288098 '97153']\n['6/21/2021 0:00' '6/21/2021 10:00' '6/21/2021 16:00' 6.0 'ASS' 'Beatriz'\n 1288098 '97153']\n['6/25/2021 0:00' '6/25/2021 10:00' '6/25/2021 16:00' 6.0 'ASS' 'Beatriz'\n 1288098 '97153']\n['6/28/2021 0:00' '6/28/2021 10:00' '6/28/2021 16:00' 6.0 'ASS' 'Beatriz'\n 1288098 '97153']\n['6/30/2021 0:00' '6/30/2021 16:30' '6/30/2021 20:30' 4.0 'BR' 'Beatriz'\n 1288098 '97153']\n"
     ]
    }
   ],
   "source": [
    "for i in rbt53_depured:\n",
    "    if i[-3] == 'Beatriz':\n",
    "        print(i)"
   ]
  }
 ],
 "metadata": {
  "kernelspec": {
   "display_name": "Python 3",
   "language": "python",
   "name": "python3"
  },
  "language_info": {
   "codemirror_mode": {
    "name": "ipython",
    "version": 3
   },
   "file_extension": ".py",
   "mimetype": "text/x-python",
   "name": "python",
   "nbconvert_exporter": "python",
   "pygments_lexer": "ipython3",
   "version": "3.7.4-final"
  }
 },
 "nbformat": 4,
 "nbformat_minor": 2
}